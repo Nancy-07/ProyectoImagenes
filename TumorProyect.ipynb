{
 "cells": [
  {
   "cell_type": "code",
   "execution_count": 3,
   "metadata": {},
   "outputs": [],
   "source": [
    "import FuncionesPreProcess as fp\n",
    "import os\n",
    "import cv2\n",
    "import numpy as np "
   ]
  },
  {
   "cell_type": "code",
   "execution_count": 4,
   "metadata": {},
   "outputs": [],
   "source": [
    "def sacarDiferencia(carpeta, newCarpeta):\n",
    "    # Crear la carpeta de imágenes de diferencia si no existe\n",
    "    if not os.path.exists(newCarpeta):\n",
    "        os.makedirs(newCarpeta)\n",
    "\n",
    "    # Obtener la lista de archivos en la carpeta\n",
    "    archivos = os.listdir(carpeta)\n",
    "\n",
    "    # Iterar sobre los archivos\n",
    "    for archivo in archivos:\n",
    "        # Comprobar si es un archivo de imagen\n",
    "        if archivo.endswith(\".jpg\") or archivo.endswith(\".png\"):\n",
    "            # Ruta completa de la imagen\n",
    "            ruta_imagen = os.path.join(carpeta, archivo)\n",
    "\n",
    "            # Cargar la imagen\n",
    "            imagen = cv2.imread(ruta_imagen, 0)\n",
    "            imagen = fp.normalize(imagen)\n",
    "\n",
    "            # Eliminación de ruido con filtrado de media\n",
    "            imagen = fp.medianBlur(imagen, 5)\n",
    "\n",
    "            # Mejora de la nitidez utilizando filtrado bilateral\n",
    "            imagen = fp.bilateral_filter(imagen, 9, 75, 75)\n",
    "\n",
    "            # Obtener dimensiones de la imagen\n",
    "            alto, ancho = imagen.shape\n",
    "\n",
    "            # Dividir la imagen en mitades\n",
    "            mitad_izquierda = imagen[:, :ancho // 2]\n",
    "            mitad_derecha = imagen[:, ancho // 2:]\n",
    "\n",
    "            # Aplicar efecto espejo vertical a la mitad derecha\n",
    "            mitad_derecha_espejo = fp.espejoY(mitad_derecha)\n",
    "            \n",
    "            diferencia = np.abs(mitad_izquierda.astype(int) - mitad_derecha_espejo.astype(int))\n",
    "\n",
    "            # Convertir la imagen de diferencia a CV_8U\n",
    "            diferencia = fp.convertAbs(diferencia)\n",
    "            \n",
    "            d = 3\n",
    "            sigmaColor = 200\n",
    "            sigmaSpace = 1000\n",
    "\n",
    "            # Aplicar el filtro bilateral\n",
    "            diferencia = fp.bilateral_filter(diferencia, d, sigmaColor, sigmaSpace)\n",
    "\n",
    "            # Guardar la imagen de diferencia en escala de grises\n",
    "            nombre_grafica = \"mitad_\" + archivo\n",
    "            ruta_grafica = os.path.join(newCarpeta, nombre_grafica)\n",
    "            cv2.imwrite(ruta_grafica, diferencia)\n"
   ]
  },
  {
   "cell_type": "code",
   "execution_count": 5,
   "metadata": {},
   "outputs": [
    {
     "ename": "AttributeError",
     "evalue": "module 'FuncionesPreProcess' has no attribute 'vectorizar'",
     "output_type": "error",
     "traceback": [
      "\u001b[1;31m---------------------------------------------------------------------------\u001b[0m",
      "\u001b[1;31mAttributeError\u001b[0m                            Traceback (most recent call last)",
      "\u001b[1;32m~\\AppData\\Local\\Temp\\ipykernel_20636\\4243539745.py\u001b[0m in \u001b[0;36m<module>\u001b[1;34m\u001b[0m\n\u001b[0;32m      1\u001b[0m \u001b[0msacarDiferencia\u001b[0m\u001b[1;33m(\u001b[0m\u001b[1;34m'yes_nuevo/'\u001b[0m\u001b[1;33m,\u001b[0m\u001b[1;34m'./carpeta_MitadesYesM/'\u001b[0m\u001b[1;33m)\u001b[0m\u001b[1;33m\u001b[0m\u001b[1;33m\u001b[0m\u001b[0m\n\u001b[1;32m----> 2\u001b[1;33m \u001b[0mdata_yes\u001b[0m \u001b[1;33m=\u001b[0m \u001b[0mfp\u001b[0m\u001b[1;33m.\u001b[0m\u001b[0mvectorizar\u001b[0m\u001b[1;33m(\u001b[0m\u001b[1;34m'carpeta_MitadesYes/'\u001b[0m\u001b[1;33m,\u001b[0m \u001b[1;36m1\u001b[0m\u001b[1;33m)\u001b[0m\u001b[1;33m\u001b[0m\u001b[1;33m\u001b[0m\u001b[0m\n\u001b[0m\u001b[0;32m      3\u001b[0m \u001b[1;33m\u001b[0m\u001b[0m\n\u001b[0;32m      4\u001b[0m \u001b[0msacarDiferencia\u001b[0m\u001b[1;33m(\u001b[0m\u001b[1;34m'no_nuevo/'\u001b[0m\u001b[1;33m,\u001b[0m\u001b[1;34m'./carpeta_MitadesNoM/'\u001b[0m\u001b[1;33m)\u001b[0m\u001b[1;33m\u001b[0m\u001b[1;33m\u001b[0m\u001b[0m\n\u001b[0;32m      5\u001b[0m \u001b[0mdata_no\u001b[0m \u001b[1;33m=\u001b[0m \u001b[0mfp\u001b[0m\u001b[1;33m.\u001b[0m\u001b[0mvectorizar\u001b[0m\u001b[1;33m(\u001b[0m\u001b[1;34m'carpeta_MitadesNo/'\u001b[0m\u001b[1;33m,\u001b[0m \u001b[1;36m0\u001b[0m\u001b[1;33m)\u001b[0m\u001b[1;33m\u001b[0m\u001b[1;33m\u001b[0m\u001b[0m\n",
      "\u001b[1;31mAttributeError\u001b[0m: module 'FuncionesPreProcess' has no attribute 'vectorizar'"
     ]
    }
   ],
   "source": [
    "#sacarDiferencia('yes_nuevo/','./carpeta_MitadesYesM/')\n",
    "#data_yes = fp.vectorizar('carpeta_MitadesYes/', 1)\n",
    "\n",
    "sacarDiferencia('no_nuevo/','./carpeta_MitadesNoM/')\n",
    "#data_no = fp.vectorizar('carpeta_MitadesNo/', 0)"
   ]
  }
 ],
 "metadata": {
  "kernelspec": {
   "display_name": "base",
   "language": "python",
   "name": "python3"
  },
  "language_info": {
   "codemirror_mode": {
    "name": "ipython",
    "version": 3
   },
   "file_extension": ".py",
   "mimetype": "text/x-python",
   "name": "python",
   "nbconvert_exporter": "python",
   "pygments_lexer": "ipython3",
   "version": "3.9.13"
  },
  "orig_nbformat": 4
 },
 "nbformat": 4,
 "nbformat_minor": 2
}
