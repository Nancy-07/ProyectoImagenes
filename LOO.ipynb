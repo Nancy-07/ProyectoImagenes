{
 "cells": [
  {
   "cell_type": "code",
   "execution_count": 3,
   "metadata": {},
   "outputs": [],
   "source": [
    "import os\n",
    "from PIL import Image\n",
    "import numpy as np\n",
    "import cv2"
   ]
  },
  {
   "cell_type": "code",
   "execution_count": 4,
   "metadata": {},
   "outputs": [],
   "source": [
    "def vectorizar(carpeta, label):\n",
    "    archivos = os.listdir(carpeta)\n",
    "\n",
    "    # Lista para almacenar los vectores de las imágenes\n",
    "    vectores_imagenes = []\n",
    "\n",
    "    # Iterar sobre los archivos\n",
    "    for archivo in archivos:\n",
    "        # Comprobar si es un archivo de imagen\n",
    "        if archivo.endswith(\".jpg\") or archivo.endswith(\".png\"):\n",
    "            # Ruta completa de la imagen\n",
    "            ruta_imagen = os.path.join(carpeta, archivo)\n",
    "            \n",
    "            # Cargar la imagen\n",
    "            imagen = Image.open(ruta_imagen)\n",
    "\n",
    "            # Redimensiona la imagen a 8x8 píxeles\n",
    "            imagen = imagen.resize((50, 125))\n",
    "\n",
    "            # Convierte la imagen a escala de grises\n",
    "            imagen = imagen.convert(\"L\")\n",
    "\n",
    "            # Convierte la imagen a un array de NumPy\n",
    "            array_imagen = np.array(imagen)\n",
    "\n",
    "            # Aplana el array de imagen a un vector de 1x64\n",
    "            vector = array_imagen.flatten()\n",
    "            \n",
    "            # Crea una lista con la etiqueta y el nombre del archivo\n",
    "            etiqueta_archivo = [label, archivo]\n",
    "\n",
    "            # Agrega la lista al final del vector\n",
    "            vector_con_etiqueta_archivo = np.append(vector, etiqueta_archivo)\n",
    "\n",
    "            # Agrega el vector a la lista de vectores de imágenes\n",
    "            vectores_imagenes.append(vector_con_etiqueta_archivo)\n",
    "\n",
    "    # Convierte la lista de vectores en una matriz de NumPy\n",
    "    return np.array(vectores_imagenes)\n"
   ]
  },
  {
   "cell_type": "code",
   "execution_count": 5,
   "metadata": {},
   "outputs": [],
   "source": [
    "def euclidean_distance(x1, x2):\n",
    "    return np.sqrt(np.sum((x1 - x2) ** 2))\n",
    "\n",
    "class KNNClassifier:\n",
    "    def __init__(self, k):\n",
    "        self.k = k\n",
    "\n",
    "    def fit(self, X_train, y_train):\n",
    "        self.X_train = X_train\n",
    "        self.y_train = y_train\n",
    "\n",
    "    def predict(self, X_test):\n",
    "        y_pred = []\n",
    "        for i in range(len(X_test)):\n",
    "            distances = []\n",
    "            for j in range(len(self.X_train)):\n",
    "                dist = euclidean_distance(X_test[i], self.X_train[j])\n",
    "                distances.append((dist, self.y_train[j]))\n",
    "            distances.sort(key=lambda x: x[0])  # Ordenar distancias de menor a mayor\n",
    "            neighbors = distances[:self.k]  # Obtener los k vecinos más cercanos\n",
    "            classes = [neighbor[1] for neighbor in neighbors]  # Obtener las clases de los vecinos\n",
    "            y_pred.append(max(set(classes), key=classes.count))  # Clasificación por voto mayoritario\n",
    "        return y_pred"
   ]
  },
  {
   "cell_type": "code",
   "execution_count": 6,
   "metadata": {},
   "outputs": [],
   "source": [
    "def mergeData(data1, data2):\n",
    "    return np.concatenate((data1, data2), axis=0)"
   ]
  },
  {
   "cell_type": "code",
   "execution_count": 7,
   "metadata": {},
   "outputs": [],
   "source": [
    "def exclude(matriz, indice):\n",
    "    filas_seleccionadas = []\n",
    "    for i, fila in enumerate(matriz):\n",
    "        if i != indice:\n",
    "            filas_seleccionadas.append(fila)\n",
    "    return np.array(filas_seleccionadas)"
   ]
  },
  {
   "cell_type": "code",
   "execution_count": 8,
   "metadata": {},
   "outputs": [],
   "source": [
    "def LOO_Knn(allData):\n",
    "    labelsPredictedKNN = []\n",
    "    labelReal = allData[:, 6250]\n",
    "    for i in range(allData.shape[0]):\n",
    "        dataTrain = exclude(allData, i)\n",
    "        ImgsTrain = np.array(dataTrain[:, :-2], dtype= int)\n",
    "        LabelsTrain = np.array(dataTrain[:, 6250], dtype= int)\n",
    "        NameImageTrain = np.array(dataTrain[:, 6251], dtype= str)  \n",
    "\n",
    "\n",
    "        dataTest = allData[i, :]\n",
    "        dataTest = dataTest.reshape(1, 6252)\n",
    "        ImgsTest = np.array(dataTest[:, :-2], dtype=int)\n",
    "        LabelsTest = np.array(dataTest[:, 6250], dtype=int)\n",
    "        NameImageTest = np.array(dataTest[:, 6251], dtype=str)\n",
    "\n",
    "        knn = KNNClassifier(1)\n",
    "        knn.fit(ImgsTrain, LabelsTrain)\n",
    "        prediction = knn.predict(ImgsTest)\n",
    "        \n",
    "        labelsPredictedKNN.append(prediction[0])\n",
    "        #print(prediction[0], LabelsTest[0])\n",
    "    labelsPredictedKNN = np.array(labelsPredictedKNN)  \n",
    "    return(labelsPredictedKNN)"
   ]
  },
  {
   "cell_type": "code",
   "execution_count": 9,
   "metadata": {},
   "outputs": [],
   "source": [
    "data_yes = vectorizar('carpeta_MitadesYes/', 1)\n",
    "data_no = vectorizar('carpeta_MitadesNo/', 0)"
   ]
  },
  {
   "cell_type": "code",
   "execution_count": 10,
   "metadata": {},
   "outputs": [
    {
     "name": "stdout",
     "output_type": "stream",
     "text": [
      "(207, 6252)\n"
     ]
    }
   ],
   "source": [
    "allData = mergeData(data_yes, data_no)\n",
    "print(allData.shape)"
   ]
  },
  {
   "cell_type": "code",
   "execution_count": 11,
   "metadata": {},
   "outputs": [],
   "source": [
    "predictions = LOO_Knn(allData)"
   ]
  },
  {
   "cell_type": "code",
   "execution_count": 12,
   "metadata": {},
   "outputs": [
    {
     "name": "stdout",
     "output_type": "stream",
     "text": [
      "[0 0 1 1 1 1 1 0 1 1 0 1 0 1 1 0 1 1 1 1 1 1 1 1 1 1 0 1 1 1 1 1 1 1 0 0 1\n",
      " 1 1 0 1 0 1 1 1 0 1 1 1 1 1 1 0 1 1 1 1 0 1 1 1 1 1 1 1 0 1 0 0 1 1 0 1 0\n",
      " 1 0 1 1 0 1 1 1 1 1 1 1 1 1 1 1 1 1 0 0 1 1 1 1 1 1 1 1 0 1 1 1 1 1 1 1 0\n",
      " 1 1 1 1 1 0 1 0 0 0 0 0 0 0 0 0 0 0 1 0 0 1 1 0 1 0 1 0 0 0 0 0 0 0 0 1 0\n",
      " 0 0 0 0 0 0 0 0 0 0 0 0 1 0 0 0 0 0 1 0 0 1 0 1 0 0 0 0 0 0 0 0 0 0 1 0 0\n",
      " 0 0 0 0 0 0 0 0 0 0 0 0 0 1 0 0 0 0 0 0 0 0]\n",
      "[1 1 1 1 1 1 1 1 1 1 1 1 1 1 1 1 1 1 1 1 1 1 1 1 1 1 1 1 1 1 1 1 1 1 1 1 1\n",
      " 1 1 1 1 1 1 1 1 1 1 1 1 1 1 1 1 1 1 1 1 1 1 1 1 1 1 1 1 1 1 1 1 1 1 1 1 1\n",
      " 1 1 1 1 1 1 1 1 1 1 1 1 1 1 1 1 1 1 1 1 1 1 1 1 1 1 1 1 1 1 1 1 1 1 1 1 1\n",
      " 1 1 1 1 1 0 0 0 0 0 0 0 0 0 0 0 0 0 0 0 0 0 0 0 0 0 0 0 0 0 0 0 0 0 0 0 0\n",
      " 0 0 0 0 0 0 0 0 0 0 0 0 0 0 0 0 0 0 0 0 0 0 0 0 0 0 0 0 0 0 0 0 0 0 0 0 0\n",
      " 0 0 0 0 0 0 0 0 0 0 0 0 0 0 0 0 0 0 0 0 0 0]\n"
     ]
    }
   ],
   "source": [
    "print(predictions)\n",
    "print(np.array(allData[:, 6250], dtype=int))"
   ]
  },
  {
   "cell_type": "code",
   "execution_count": 13,
   "metadata": {},
   "outputs": [
    {
     "ename": "NameError",
     "evalue": "name 'accuracy' is not defined",
     "output_type": "error",
     "traceback": [
      "\u001b[1;31m---------------------------------------------------------------------------\u001b[0m",
      "\u001b[1;31mNameError\u001b[0m                                 Traceback (most recent call last)",
      "\u001b[1;32m~\\AppData\\Local\\Temp\\ipykernel_22628\\2782026701.py\u001b[0m in \u001b[0;36m<module>\u001b[1;34m\u001b[0m\n\u001b[0;32m      1\u001b[0m \u001b[0mcuracy\u001b[0m \u001b[1;33m=\u001b[0m \u001b[0mnp\u001b[0m\u001b[1;33m.\u001b[0m\u001b[0mmean\u001b[0m\u001b[1;33m(\u001b[0m\u001b[0mpredictions\u001b[0m \u001b[1;33m==\u001b[0m \u001b[0mnp\u001b[0m\u001b[1;33m.\u001b[0m\u001b[0marray\u001b[0m\u001b[1;33m(\u001b[0m\u001b[0mallData\u001b[0m\u001b[1;33m[\u001b[0m\u001b[1;33m:\u001b[0m\u001b[1;33m,\u001b[0m \u001b[1;36m6250\u001b[0m\u001b[1;33m]\u001b[0m\u001b[1;33m,\u001b[0m \u001b[0mdtype\u001b[0m\u001b[1;33m=\u001b[0m\u001b[0mint\u001b[0m\u001b[1;33m)\u001b[0m\u001b[1;33m)\u001b[0m\u001b[1;33m\u001b[0m\u001b[1;33m\u001b[0m\u001b[0m\n\u001b[1;32m----> 2\u001b[1;33m \u001b[0mprint\u001b[0m\u001b[1;33m(\u001b[0m\u001b[0maccuracy\u001b[0m\u001b[1;33m)\u001b[0m\u001b[1;33m\u001b[0m\u001b[1;33m\u001b[0m\u001b[0m\n\u001b[0m",
      "\u001b[1;31mNameError\u001b[0m: name 'accuracy' is not defined"
     ]
    }
   ],
   "source": [
    "curacy = np.mean(predictions == np.array(allData[:, 6250], dtype=int))\n",
    "print(accuracy)"
   ]
  }
 ],
 "metadata": {
  "kernelspec": {
   "display_name": "base",
   "language": "python",
   "name": "python3"
  },
  "language_info": {
   "codemirror_mode": {
    "name": "ipython",
    "version": 3
   },
   "file_extension": ".py",
   "mimetype": "text/x-python",
   "name": "python",
   "nbconvert_exporter": "python",
   "pygments_lexer": "ipython3",
   "version": "3.9.13"
  },
  "orig_nbformat": 4
 },
 "nbformat": 4,
 "nbformat_minor": 2
}
