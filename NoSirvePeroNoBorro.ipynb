{
 "cells": [
  {
   "cell_type": "code",
   "execution_count": null,
   "metadata": {},
   "outputs": [],
   "source": [
    "def calcular_correlacion(imagen):\n",
    "    alto, ancho = imagen.shape\n",
    "\n",
    "    # Dividir la imagen en mitades\n",
    "    mitad_izquierda = imagen[:, :ancho // 2]\n",
    "    mitad_derecha = imagen[:, ancho // 2:]\n",
    "\n",
    "    # Calcular la correlación de Pearson entre las dos mitades\n",
    "    correlacion, _ = pearsonr(mitad_izquierda.flatten(), mitad_derecha.flatten())\n",
    "\n",
    "    return correlacion"
   ]
  },
  {
   "cell_type": "code",
   "execution_count": null,
   "metadata": {},
   "outputs": [],
   "source": [
    "def operaciones(carpeta):\n",
    "    lista_archivos = os.listdir(carpeta)\n",
    "\n",
    "    array_datos = []\n",
    "\n",
    "    # Recorrer todos los archivos en la carpeta\n",
    "    for archivo in lista_archivos:\n",
    "        # Verificar si es un archivo de imagen\n",
    "        if archivo.endswith(\".jpg\") or archivo.endswith(\".png\"):\n",
    "            # Ruta completa de la imagen\n",
    "            ruta_imagen = os.path.join(carpeta, archivo)\n",
    "            \n",
    "            # Abrir la imagen y convertirla a escala de grises\n",
    "            imagen = cv2.imread(ruta_imagen, cv2.IMREAD_GRAYSCALE)\n",
    "            imagen = cv2.normalize(imagen, None, 0, 255, cv2.NORM_MINMAX)\n",
    "\n",
    "        # Eliminación de ruido con filtrado de media\n",
    "            imagen = cv2.medianBlur(imagen, 5)\n",
    "\n",
    "            # Mejora de la nitidez utilizando filtrado bilateral\n",
    "            imagen = cv2.bilateralFilter(imagen, 9, 75, 75)\n",
    "\n",
    "            # Calcular la correlación entre las mitades de la imagen\n",
    "            correlacion = calcular_correlacion(imagen)\n",
    "            \n",
    "            # Imprimir el nombre del archivo y la correlación\n",
    "            print(\"Archivo:\", archivo)\n",
    "            print(\"Correlación:\", correlacion)\n",
    "            print(\"-------------------------------------\")\n",
    "            \n",
    "            array_datos.append(correlacion)\n",
    "\n",
    "    array_datos = np.array(array_datos)\n",
    "    return array_datos\n"
   ]
  },
  {
   "cell_type": "code",
   "execution_count": null,
   "metadata": {},
   "outputs": [],
   "source": [
    "def datos(array):\n",
    "    promedio = np.mean(array)\n",
    "    varianza = np.var(array)\n",
    "    desviacion_estandar = np.std(array)\n",
    "    umbral_superior = promedio + 2 * desviacion_estandar\n",
    "    umbral_inferior = promedio - 2 * desviacion_estandar\n",
    "\n",
    "    # Identificar los datos anormales\n",
    "    datos_anormales = array[(array > umbral_superior) | (array < umbral_inferior)]\n",
    "\n",
    "    # Imprimir los datos anormales\n",
    "    print(\"Datos anormales:\", datos_anormales)\n",
    "    # Imprimir los resultados\n",
    "    print(\"Promedio:\", promedio)\n",
    "    print(\"Varianza:\", varianza)\n",
    "\n",
    "    # Crear los índices para las barras\n",
    "    indices = np.arange(len(array))\n",
    "\n",
    "    # Graficar el np.array en forma de barras\n",
    "    plt.bar(indices, array)\n",
    "    plt.xlabel(\"Índice\")\n",
    "    plt.ylabel(\"Valor\")\n",
    "    plt.title(\"Gráfico de barras de los datos\")\n",
    "    plt.show()"
   ]
  },
  {
   "cell_type": "code",
   "execution_count": null,
   "metadata": {},
   "outputs": [],
   "source": [
    "arrayNo = operaciones('no_nuevo/')\n",
    "arrayYes = operaciones('yes_nuevo/')\n",
    "\n",
    "datos(arrayYes)\n",
    "datos(arrayNo)"
   ]
  }
 ],
 "metadata": {
  "language_info": {
   "name": "python"
  },
  "orig_nbformat": 4
 },
 "nbformat": 4,
 "nbformat_minor": 2
}
